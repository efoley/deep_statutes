{
 "cells": [
  {
   "cell_type": "code",
   "execution_count": null,
   "id": "19b03b8f",
   "metadata": {},
   "outputs": [],
   "source": [
    "from pathlib import Path\n",
    "\n",
    "import pymupdf\n",
    "\n",
    "from deep_statutes.config import STATUTES_DATA_DIR\n",
    "from deep_statutes.pdf.token_stream import PDFTokenConversionOptions, pdf_to_token_stream\n",
    "from deep_statutes.pdf.util import summarize_doc, is_pathological"
   ]
  },
  {
   "cell_type": "code",
   "execution_count": null,
   "id": "6c7c0379",
   "metadata": {},
   "outputs": [],
   "source": [
    "path = Path(STATUTES_DATA_DIR) / \"co\"/ \"pdf\" / \"crs2024-title-13.pdf\""
   ]
  },
  {
   "cell_type": "code",
   "execution_count": null,
   "id": "0b846619",
   "metadata": {},
   "outputs": [],
   "source": [
    "doc = pymupdf.open(path)\n",
    "summarize_doc(doc)\n",
    "\n",
    "if is_pathological(doc):\n",
    "    print(\"Pathological document\")"
   ]
  },
  {
   "cell_type": "code",
   "execution_count": null,
   "id": "9fea1de1",
   "metadata": {},
   "outputs": [],
   "source": [
    "token_options = PDFTokenConversionOptions(\n",
    "    infer_centered=False,\n",
    "    left_margin=72.0,\n",
    "    indent_size=33.0,\n",
    "    font_sizes=[float(\"inf\"), 12.0, 20.0, float(\"inf\")],\n",
    "    page_delimiters=True,\n",
    ")\n",
    "\n",
    "token_stream = pdf_to_token_stream(doc, token_options)\n",
    "\n",
    "\n",
    "filter_page_range = (3, 5)\n",
    "\n",
    "page_idx = -1\n",
    "for token in token_stream:\n",
    "    if token.startswith(\"<<PAGE\"):\n",
    "        page_idx += 1\n",
    "    if filter_page_range[0] <= page_idx and page_idx < filter_page_range[1]:\n",
    "        print(token)"
   ]
  }
 ],
 "metadata": {
  "kernelspec": {
   "display_name": ".venv",
   "language": "python",
   "name": "python3"
  },
  "language_info": {
   "codemirror_mode": {
    "name": "ipython",
    "version": 3
   },
   "file_extension": ".py",
   "mimetype": "text/x-python",
   "name": "python",
   "nbconvert_exporter": "python",
   "pygments_lexer": "ipython3",
   "version": "3.13.0"
  }
 },
 "nbformat": 4,
 "nbformat_minor": 5
}
