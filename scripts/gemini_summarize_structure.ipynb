{
 "cells": [
  {
   "cell_type": "code",
   "execution_count": null,
   "id": "2ecb0954",
   "metadata": {},
   "outputs": [],
   "source": [
    "import os\n",
    "\n",
    "from google import genai\n",
    "from google.genai import types\n",
    "\n",
    "from deep_statutes.config import STATUTES_DATA_DIR\n",
    "from deep_statutes.states import ABBREV_TO_US_STATE"
   ]
  },
  {
   "cell_type": "markdown",
   "id": "7a49b8a2",
   "metadata": {},
   "source": [
    "# About\n",
    "\n",
    "This notebook will give you a description of the hierarchical structure and formatting of a PDF file.\n",
    "\n",
    "A good way to understand the structure of a state's statutes is to run this notebook on an `example.pdf` that has been made by running `uv run pdf-sample` on some directory of PDFs.\n"
   ]
  },
  {
   "cell_type": "code",
   "execution_count": 2,
   "id": "48209977",
   "metadata": {},
   "outputs": [],
   "source": [
    "api_key = os.getenv('GEMINI_API_KEY')"
   ]
  },
  {
   "cell_type": "code",
   "execution_count": 3,
   "id": "b3ae4d66",
   "metadata": {},
   "outputs": [],
   "source": [
    "state = 'co'\n",
    "input_path = STATUTES_DATA_DIR / state / 'example.pdf'"
   ]
  },
  {
   "cell_type": "code",
   "execution_count": 4,
   "id": "015009ab",
   "metadata": {},
   "outputs": [],
   "source": [
    "state_name = ABBREV_TO_US_STATE[state.upper()]\n",
    "\n",
    "prompt = f\"\"\"\n",
    "This is a PDF that contains a subset of the pages of statutes of {state_name}.\n",
    "\n",
    "Could you please tell me the following about the organization of this document: \n",
    "(a) does it have headers or footers, \n",
    "(b) are there any tables or other non-text elements that interrupt the flow of text,\n",
    "(c) what is the hierarchy of headers (e.g. \"Title\", \"Chapter\", \"Article\", \"Part\"), and \n",
    "(d) are there any formatting exceptions that would make finding headers using a simple heuristic (e.g. regex) difficult?\n",
    "\"\"\""
   ]
  },
  {
   "cell_type": "code",
   "execution_count": 5,
   "id": "ad0758ff",
   "metadata": {},
   "outputs": [
    {
     "name": "stdout",
     "output_type": "stream",
     "text": [
      "Okay, let's break down the organizational structure of the provided Colorado Revised Statutes pages based on the OCR text:\n",
      "\n",
      "**(a) Headers or Footers:**\n",
      "\n",
      "*   **Yes.**\n",
      "*   **Header:** Typically includes \"Colorado Revised Statutes 2024\" at the top left or center of the page.\n",
      "*   **Footer:** Consistently includes \"Colorado Revised Statutes 2024\", the page number (e.g., \"Page X of Y\"), and \"Uncertified Printout\" at the bottom of the page.\n",
      "\n",
      "**(b) Tables or Non-Text Elements:**\n",
      "\n",
      "*   Based on the provided OCR text, there are **no tables, images, or other significant non-text elements** interrupting the flow of the main statutory text. The content consists primarily of text, including headers, section numbers, section titles, statutory language, editor's notes, source notes, cross-references, and law reviews.\n",
      "\n",
      "**(c) Hierarchy of Headers:**\n",
      "\n",
      "The document follows a clear hierarchical structure, generally in this order from highest to lowest level:\n",
      "\n",
      "1.  **TITLE [Number]** (e.g., `TITLE 1`, `TITLE 44`) - Top level, centered, all caps.\n",
      "2.  **[TITLE NAME]** (e.g., `ELECTIONS`, `REVENUE - REGULATION OF ACTIVITIES`) - Usually follows the TITLE number, centered, all caps.\n",
      "3.  **(Optional) Sub-header(s):** Descriptive text further categorizing the content below the Title Name (e.g., `GENERAL, PRIMARY, RECALL, AND CONGRESSIONAL VACANCY ELECTIONS`, `CODE OF CRIMINAL PROCEDURE`, `PUBLIC UTILITIES`, `GENERAL AND ADMINISTRATIVE`). Formatting varies but often centered or left-aligned, all caps. Sometimes multiple levels exist.\n",
      "4.  **ARTICLE [Number]** (e.g., `ARTICLE 1`, `ARTICLE 16`) - Centered, all caps.\n",
      "5.  **[ARTICLE NAME]** (e.g., `General Provisions`, `Health-care Coverage`) - Usually follows the Article number, centered, mixed case or all caps.\n",
      "6.  **(Optional) PART [Number]** (e.g., `PART 1`, `PART 8`) - Centered, all caps.\n",
      "7.  **[PART NAME]** (e.g., `GENERAL PROVISIONS`, `UNLAWFUL ACTS`) - Usually follows the Part number, centered, all caps.\n",
      "8.  **[Section Number]. [Section Title].** (e.g., `31-1-101. Definitions.`, `44-30-801. Limited gaming equipment...`) - Typically bolded, left-aligned.\n",
      "9.  **Subsections:** Within sections, indicated by `(1)`, `(a)`, `(I)`, `(A)`, etc.\n",
      "\n",
      "**(d) Formatting Exceptions for Header Finding:**\n",
      "\n",
      "Yes, there are several potential difficulties for simple heuristic-based header detection:\n",
      "\n",
      "1.  **Embedded \"Articles\" in Statutes:** Several pages (e.g., 249-263, 254-258) contain text from interstate compacts or specific agreements (like the Southern Ute Taxation Compact). These texts *internally* use headers like \"ARTICLE VII\", \"Article Two\", etc. These look very similar to the main CRS Article headers but are part of the *content* of a statute, not the structural hierarchy of the CRS itself. Their formatting (Roman numerals, word numerals, mixed case, periods) also varies. This is the most significant exception.\n",
      "2.  **Repealed Sections/Parts/Articles:** The designation `(Repealed)` often follows a header or section number/title, which needs to be accounted for.\n",
      "3.  **Editor's Notes, Cross references, Law Reviews, Annotator's Notes, Source Notes:** These sections frequently appear below major headers (Title, Article, Part) or individual sections and interrupt the direct flow from one structural element to the next or between sections. While their formatting is usually distinct (often indented or italicized), their presence breaks simple proximity rules for associating headers with subsequent content.\n",
      "4.  **Multiple Sub-headers:** Some Titles have multiple levels of descriptive sub-headers below the main Title Name before reaching the Article level (e.g., Title 44).\n",
      "5.  **Variable Formatting:** While generally consistent, there can be minor variations in capitalization (all caps vs. mixed case) for similar levels like Article Names or Part Names.\n",
      "6.  **Section Number Variations:** Section numbers can include decimals (e.g., `24-1-107.5.`) or hyphens.\n",
      "\n",
      "These exceptions, especially the embedded Articles within statute text, mean that a simple regex looking only for patterns like `TITLE \\d+` or `ARTICLE \\d+` might misidentify content or miss the true structural hierarchy without additional context or more complex parsing logic."
     ]
    }
   ],
   "source": [
    "client = genai.Client(api_key=api_key)\n",
    "file = client.files.upload(file = input_path)\n",
    "\n",
    "model_pro = \"gemini-2.5-pro-exp-03-25\"\n",
    "\n",
    "generate_content_config = types.GenerateContentConfig(\n",
    "    response_mime_type='text/plain',\n",
    ")\n",
    "\n",
    "for chunk in client.models.generate_content_stream(\n",
    "    model=model_pro,\n",
    "    contents=[\n",
    "        file,\n",
    "        prompt,\n",
    "    ]\n",
    "):\n",
    "    print(chunk.text, end='')"
   ]
  }
 ],
 "metadata": {
  "kernelspec": {
   "display_name": ".venv",
   "language": "python",
   "name": "python3"
  },
  "language_info": {
   "codemirror_mode": {
    "name": "ipython",
    "version": 3
   },
   "file_extension": ".py",
   "mimetype": "text/x-python",
   "name": "python",
   "nbconvert_exporter": "python",
   "pygments_lexer": "ipython3",
   "version": "3.13.0"
  }
 },
 "nbformat": 4,
 "nbformat_minor": 5
}
